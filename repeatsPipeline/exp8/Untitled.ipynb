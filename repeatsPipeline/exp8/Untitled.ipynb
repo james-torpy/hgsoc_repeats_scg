{
 "cells": [
  {
   "cell_type": "code",
   "execution_count": 1,
   "metadata": {
    "collapsed": false
   },
   "outputs": [
    {
     "data": {
      "text/plain": [
       "0"
      ]
     },
     "execution_count": 1,
     "metadata": {},
     "output_type": "execute_result"
    }
   ],
   "source": [
    "#!/share/ClusterShare/software/contrib/fabbus/python/2.7.3/bin/python\n",
    "\n",
    "### add_gc.py ###\n",
    "\n",
    "# This script detects whether the number of \n",
    "# cores I'm using drops below 80, and if so\n",
    "# submits the next GC job #\n",
    "\n",
    "### 0. Define starting variables ###\n",
    "\n",
    "import os\n",
    "#import numpy as np\n",
    "#import pandas as pd\n",
    "import re\n",
    "\n",
    "#home_dir = '/share/ScratchGeneral/jamtor/'\n",
    "home_dir = '/Users/jamestorpy/clusterHome/'\n",
    "project_dir = home_dir + '/projects/hgsoc_repeats/RNA-seq/'\n",
    "script_dir = project_dir + '/scripts/repeatsPipeline/exp8/'\n",
    "raw_dir = '/share/ClusterShare/thingamajigs/jamtor/projects/hgsoc_repeats/RNA-seq/raw_files/fullsamples/bowtell_primary'\n",
    "\n",
    "\n",
    "\n",
    "### 1. Fetch number of cores being used ###\n",
    "\n",
    "# save qstat output as file:\n",
    "os.system(\"qstat -u '*' | grep jamtor | grep -e 'q@' | grep -v QRLOGIN | awk '{print $9}' > \" + script_dir + \"/qstat.txt\")\n",
    "\n",
    "fetch \n",
    "running = 0\n"
   ]
  },
  {
   "cell_type": "code",
   "execution_count": null,
   "metadata": {
    "collapsed": true
   },
   "outputs": [],
   "source": [
    "# fetch core number:\n",
    "slots = 0\n",
    "with open(script_dir + '/qstat.txt') as f:\n",
    "    for line in f:\n",
    "        slots = slots + int(re.sub('\\\\n', '', line))\n",
    "\n",
    "\n",
    "### 2. Initiate counter for gc jobs ###\n",
    "\n",
    "if slots < 60:\n",
    "\tprint 'Less than 60 cores being used!'\n",
    "\tif os.path.exists(raw_dir + '/gc_count.txt'):\n",
    "\t\tprint('Count file exists, adding to this')\n",
    "\t\tprint ''\n",
    "\t\twith open(raw_dir + '/gc_count.txt') as f:\n",
    "\t\t\tfor line in f:\n",
    "\t\t\t\tnum = int(line) + 1\n",
    "\t\t\t\tfile = open((raw_dir + '/gc_count.txt'), 'w')\n",
    "\t\t\t\tfile.write(\"%s\\n\" % num)\n",
    "\t\t\t\tfile.close()\n",
    "\telse:\n",
    "\t\tprint('Count file does not exist, creating')\n",
    "\t\tprint ''\n",
    "\t\tnum=4\n",
    "\t\tfile = open((raw_dir + '/gc_count.txt'), 'w')\n",
    "\t\tfile.write('%s\\n' % '4')\n",
    "\t\tfile.close()\n",
    "\n",
    "\n",
    "\t### 3. Submit next job in gc_redo.txt\n",
    "\n",
    "\t# define next file:\n",
    "\twith open(raw_dir + '/gc_redo.txt') as f:\n",
    "\t   \tfor i, subfile in enumerate(f, 1):\n",
    "\t  \t\t\tif i == num:\n",
    "\t\t\t\t\tbreak\n",
    "\tprint 'File to be submitted is: ' + subfile\n",
    "\tprint ''\n",
    "\t\n",
    "\t# write this file into files.txt:\n",
    "\tfile = open(raw_dir + '/files.txt', 'w')\n",
    "\tfile.write('%s\\n' % subfile)\n",
    "\tfile.close()\n",
    "\t# call 1.bamtofastq_mansubmit.bash:\n",
    "\tos.system(script_dir + '/1.bamtofastq_mansubmit.bash')"
   ]
  }
 ],
 "metadata": {
  "kernelspec": {
   "display_name": "Python [default]",
   "language": "python",
   "name": "python3"
  },
  "language_info": {
   "codemirror_mode": {
    "name": "ipython",
    "version": 3
   },
   "file_extension": ".py",
   "mimetype": "text/x-python",
   "name": "python",
   "nbconvert_exporter": "python",
   "pygments_lexer": "ipython3",
   "version": "3.5.2"
  }
 },
 "nbformat": 4,
 "nbformat_minor": 1
}
